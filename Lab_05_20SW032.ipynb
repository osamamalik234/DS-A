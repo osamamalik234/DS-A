{
  "nbformat": 4,
  "nbformat_minor": 0,
  "metadata": {
    "colab": {
      "provenance": [],
      "authorship_tag": "ABX9TyPY0V0x3revRKe8uQzLqnpB",
      "include_colab_link": true
    },
    "kernelspec": {
      "name": "python3",
      "display_name": "Python 3"
    },
    "language_info": {
      "name": "python"
    }
  },
  "cells": [
    {
      "cell_type": "markdown",
      "metadata": {
        "id": "view-in-github",
        "colab_type": "text"
      },
      "source": [
        "<a href=\"https://colab.research.google.com/github/osamamalik234/DS-A/blob/main/Lab_05_20SW032.ipynb\" target=\"_parent\"><img src=\"https://colab.research.google.com/assets/colab-badge.svg\" alt=\"Open In Colab\"/></a>"
      ]
    },
    {
      "cell_type": "markdown",
      "source": [
        "\n",
        "\n",
        "Task NO: 1\n",
        "\n"
      ],
      "metadata": {
        "id": "wFqV9JeJE-mc"
      }
    },
    {
      "cell_type": "code",
      "execution_count": 6,
      "metadata": {
        "colab": {
          "base_uri": "https://localhost:8080/"
        },
        "id": "8RqTBaCrE8Z2",
        "outputId": "0ee83ca2-2532-4347-baee-ee97aea2c2e9"
      },
      "outputs": [
        {
          "output_type": "stream",
          "name": "stdout",
          "text": [
            "Earth       149.6\n",
            "Saturn     1433.5\n",
            "Mars        227.9\n",
            "Venus       108.2\n",
            "Jupiter     778.6\n",
            "dtype: float64\n"
          ]
        }
      ],
      "source": [
        "# calculate the distance of some planets from the sun\n",
        "\n",
        "import pandas as pd\n",
        "distance_from_sun = [149.6, 1433.5, 227.9, 108.2, 778.6]\n",
        "\n",
        "planets = ['Earth','Saturn', 'Venus','Mars', 'Jupiter']\n",
        "\n",
        "dist_planets = pd.Series([149.6, 1433.5, 227.9, 108.2, 778.6], ['Earth', 'Saturn', 'Mars', 'Venus', 'Jupiter'])\n",
        "\n",
        "print(dist_planets)"
      ]
    },
    {
      "cell_type": "markdown",
      "source": [
        "Task NO: 2"
      ],
      "metadata": {
        "id": "wkAqCRjyGCIX"
      }
    },
    {
      "cell_type": "code",
      "source": [
        "import pandas as pd\n",
        "import numpy as np\n",
        "\n",
        "# Since we will be working with ratings, we will set the precision of our\n",
        "# dataframes to one decimal place.\n",
        "pd.set_option('display.precision', 1)\n",
        "\n",
        "# Create a Pandas DataFrame that contains the ratings some users have given to a\n",
        "# series of books. The ratings given are in the range from 1 to 5, with 5 being\n",
        "# the best score. The names of the books, the authors, and the ratings of each user\n",
        "# are given below:\n",
        "\n",
        "books = pd.Series(data = ['Great Expectations', 'Of Mice and Men', 'Romeo and Juliet', 'The Time Machine', 'Alice in Wonderland' ])\n",
        "authors = pd.Series(data = ['Charles Dickens', 'John Steinbeck', 'William Shakespeare', ' H. G. Wells', 'Lewis Carroll' ])\n",
        "\n",
        "user_1 = pd.Series(data = [3.2, np.nan ,2.5])\n",
        "user_2 = pd.Series(data = [5., 1.3, 4.0, 3.8])\n",
        "user_3 = pd.Series(data = [2.0, 2.3, np.nan, 4])\n",
        "user_4 = pd.Series(data = [4, 3.5, 4, 5, 4.2])\n",
        "\n",
        "# Users that have np.nan values means that the user has not yet rated that book.\n",
        "# Use the data above to create a Pandas DataFrame that has the following column\n",
        "# labels: 'Author', 'Book Title', 'User 1', 'User 2', 'User 3', 'User 4'. Let Pandas\n",
        "# automatically assign numerical row indices to the DataFrame.\n",
        "\n",
        "# Create a dictionary with the data given above\n",
        "dat = {'Book Title' : books,\n",
        "       'Author' : authors,\n",
        "       'User 1' : user_1,\n",
        "       'User 2' : user_2,\n",
        "       'User 3' : user_3,\n",
        "       'User 4' : user_4}\n",
        "\n",
        "# Use the dictionary to create a Pandas DataFrame\n",
        "book_ratings = pd.DataFrame(dat)\n",
        "\n",
        "# If you created the dictionary correctly you should have a Pandas DataFrame\n",
        "# that has column labels: 'Author', 'Book Title', 'User 1', 'User 2', 'User 3',\n",
        "# 'User 4' and row indices 0 through 4.\n",
        "\n",
        "print(book_ratings)\n",
        "print()\n",
        "\n",
        "# Now replace all the NaN values in your DataFrame with the average rating in\n",
        "# each column. Replace the NaN values in place. HINT: you can use the fillna()\n",
        "# function with the keyword inplace = True, to do this. Write your code below:\n",
        "\n",
        "book_ratings.fillna(book_ratings.mean(numeric_only=True), inplace = True)\n",
        "print(book_ratings)\n",
        "print()\n",
        "\n",
        "# From the DataFrame above you can now pick all the books that had a rating of 5.\n",
        "# You can do this in just one line of code. Try to do it yourself first, you'll\n",
        "# find the answer below:\n",
        "\n",
        "best_rated = book_ratings[(book_ratings == 5).any(axis = 1)]['Book Title'].values\n",
        "\n",
        "# The code above returns a NumPy ndarray that only contains the names of the books\n",
        "# that had a rating of 5.\n",
        "\n",
        "print(best_rated)"
      ],
      "metadata": {
        "colab": {
          "base_uri": "https://localhost:8080/"
        },
        "id": "eddtdBdUGAlr",
        "outputId": "dd7fe792-d05a-4350-e4ce-2f752f499a1b"
      },
      "execution_count": 25,
      "outputs": [
        {
          "output_type": "stream",
          "name": "stdout",
          "text": [
            "            Book Title               Author  User 1  User 2  User 3  User 4\n",
            "0   Great Expectations      Charles Dickens     3.2     5.0     2.0     4.0\n",
            "1      Of Mice and Men       John Steinbeck     NaN     1.3     2.3     3.5\n",
            "2     Romeo and Juliet  William Shakespeare     2.5     4.0     NaN     4.0\n",
            "3     The Time Machine          H. G. Wells     NaN     3.8     4.0     5.0\n",
            "4  Alice in Wonderland        Lewis Carroll     NaN     NaN     NaN     4.2\n",
            "\n",
            "            Book Title               Author  User 1  User 2  User 3  User 4\n",
            "0   Great Expectations      Charles Dickens     3.2     5.0     2.0     4.0\n",
            "1      Of Mice and Men       John Steinbeck     2.9     1.3     2.3     3.5\n",
            "2     Romeo and Juliet  William Shakespeare     2.5     4.0     2.8     4.0\n",
            "3     The Time Machine          H. G. Wells     2.9     3.8     4.0     5.0\n",
            "4  Alice in Wonderland        Lewis Carroll     2.9     3.5     2.8     4.2\n",
            "\n",
            "['Great Expectations' 'The Time Machine']\n"
          ]
        }
      ]
    },
    {
      "cell_type": "markdown",
      "source": [
        "Task NO:3\n"
      ],
      "metadata": {
        "id": "k-24iLMQRMEq"
      }
    },
    {
      "cell_type": "code",
      "source": [
        "# We import pandas into Python\n",
        "import pandas as pd\n",
        "\n",
        "# We read in a stock data data file into a data frame and see what it looks like\n",
        "df = pd.read_csv('./GOOG.csv')\n",
        "\n",
        "# We display the first 5 rows of the DataFrame\n",
        "df.head()\n",
        "\n",
        "# We load the Google stock data into a DataFrame\n",
        "google_stock = pd.read_csv('./GOOG.csv', usecols=['Date', 'Adj Close'], parse_dates=['Date'], index_col=['Date'])\n",
        "\n",
        "# We load the Apple stock data into a DataFrame\n",
        "apple_stock = pd.read_csv('AAPL.csv', usecols=['Date', 'Adj Close'], parse_dates=['Date'], index_col=['Date'])\n",
        "\n",
        "# We load the Amazon stock data into a DataFrame\n",
        "amazon_stock = pd.read_csv('AMZN.csv', usecols=['Date', 'Adj Close'], parse_dates=['Date'], index_col=['Date'])\n",
        "\n",
        "# We display the google_stock DataFrame\n",
        "google_stock.head()\n",
        "\n",
        "# We create calendar dates between '2000-01-01' and  '2016-12-31'\n",
        "dates = pd.date_range('2000-01-01', '2016-12-31')\n",
        "\n",
        "# We create and empty DataFrame that uses the above dates as indices\n",
        "all_stocks = pd.DataFrame(index = dates)\n",
        "\n",
        "# Change the Adj Close column label to Google\n",
        "google_stock = google_stock.rename(columns={'Adj Close': 'Google'})\n",
        "\n",
        "# Change the Adj Close column label to Apple\n",
        "apple_stock = apple_stock.rename(columns={'Adj Close': 'Apple'})\n",
        "\n",
        "# Change the Adj Close column label to Amazon\n",
        "amazon_stock = amazon_stock.rename(columns={'Adj Close': 'Amazon'})\n",
        "\n",
        "# We display the google_stock DataFrame\n",
        "google_stock.head()\n",
        "\n",
        "# We join the Google stock to all_stocks\n",
        "all_stocks = all_stocks.join(google_stock)\n",
        "\n",
        "# We join the Apple stock to all_stocks\n",
        "all_stocks = all_stocks.join(apple_stock)\n",
        "\n",
        "# We join the Amazon stock to all_stocks\n",
        "all_stocks = all_stocks.join(amazon_stock)\n",
        "\n",
        "# We display the google_stock DataFrame\n",
        "all_stocks.head()\n",
        "\n",
        "# Check if there are any NaN values in the all_stocks dataframe\n",
        "nan_check = all_stocks.isna().any()\n",
        "\n",
        "# Print columns with NaN values\n",
        "print(nan_check)\n",
        "\n",
        "# Remove any rows that contain NaN values\n",
        "all_stocks = all_stocks.dropna()\n",
        "\n",
        "# Print the average stock price for each stock\n",
        "print(\"Average Stock Price:\")\n",
        "print(all_stocks.mean())\n",
        "\n",
        "# Print the median stock price for each stock\n",
        "print(\"\\nMedian Stock Price:\")\n",
        "print(all_stocks.median())\n",
        "\n",
        "# Print the standard deviation of the stock price for each stock\n",
        "print(\"\\nStandard Deviation of Stock Price:\")\n",
        "print(all_stocks.std())\n",
        "\n",
        "# Print the correlation between stocks\n",
        "print(\"\\nCorrelation between Stocks:\")\n",
        "print(all_stocks.corr())\n",
        "\n",
        "# Compute the rolling mean using a 150-Day window for Google stock\n",
        "rollingMean = google_stock['Google'].rolling(window=150).mean()\n",
        "\n",
        "# Print the computed rolling mean\n",
        "print(rollingMean)\n",
        "\n",
        "# this allows plots to be rendered in the notebook\n",
        "%matplotlib inline\n",
        "\n",
        "# We import matplotlib into Python\n",
        "import matplotlib.pyplot as plt\n",
        "\n",
        "\n",
        "# We plot the Google stock data\n",
        "plt.plot(all_stocks['Google'])\n",
        "\n",
        "# We plot the rolling mean ontop of our Google stock data\n",
        "plt.plot(rollingMean)\n",
        "plt.legend(['Google Stock Price', 'Rolling Mean'])\n",
        "plt.show()\n",
        "\n"
      ],
      "metadata": {
        "colab": {
          "base_uri": "https://localhost:8080/",
          "height": 1000
        },
        "id": "U9RHxU7VNzqn",
        "outputId": "78caf147-1e6c-4a3d-f3fa-c03edd9f2c8f"
      },
      "execution_count": 43,
      "outputs": [
        {
          "output_type": "stream",
          "name": "stdout",
          "text": [
            "Google    True\n",
            "Apple     True\n",
            "Amazon    True\n",
            "dtype: bool\n",
            "Average Stock Price:\n",
            "Google    347.4\n",
            "Apple      47.7\n",
            "Amazon    216.6\n",
            "dtype: float64\n",
            "\n",
            "Median Stock Price:\n",
            "Google    286.4\n",
            "Apple      39.5\n",
            "Amazon    161.8\n",
            "dtype: float64\n",
            "\n",
            "Standard Deviation of Stock Price:\n",
            "Google    187.7\n",
            "Apple      37.4\n",
            "Amazon    199.1\n",
            "dtype: float64\n",
            "\n",
            "Correlation between Stocks:\n",
            "        Google  Apple  Amazon\n",
            "Google     1.0    0.9     1.0\n",
            "Apple      0.9    1.0     0.9\n",
            "Amazon     1.0    0.9     1.0\n",
            "Date\n",
            "2004-08-19      NaN\n",
            "2004-08-20      NaN\n",
            "2004-08-23      NaN\n",
            "2004-08-24      NaN\n",
            "2004-08-25      NaN\n",
            "              ...  \n",
            "2017-10-09    914.6\n",
            "2017-10-10    915.5\n",
            "2017-10-11    916.5\n",
            "2017-10-12    917.5\n",
            "2017-10-13    918.5\n",
            "Name: Google, Length: 3313, dtype: float64\n"
          ]
        },
        {
          "output_type": "display_data",
          "data": {
            "text/plain": [
              "<Figure size 640x480 with 1 Axes>"
            ],
            "image/png": "[encoded data removed]"
          },
          "metadata": {}
        }
      ]
    }
  ]
}