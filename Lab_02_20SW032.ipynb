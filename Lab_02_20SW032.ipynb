{
  "nbformat": 4,
  "nbformat_minor": 0,
  "metadata": {
    "colab": {
      "provenance": [],
      "authorship_tag": "ABX9TyNFCQqjR4ZK6kOm6poneBXR",
      "include_colab_link": true
    },
    "kernelspec": {
      "name": "python3",
      "display_name": "Python 3"
    },
    "language_info": {
      "name": "python"
    }
  },
  "cells": [
    {
      "cell_type": "markdown",
      "metadata": {
        "id": "view-in-github",
        "colab_type": "text"
      },
      "source": [
        "<a href=\"https://colab.research.google.com/github/osamamalik234/DS-A/blob/main/Lab_02_20SW032.ipynb\" target=\"_parent\"><img src=\"https://colab.research.google.com/assets/colab-badge.svg\" alt=\"Open In Colab\"/></a>"
      ]
    },
    {
      "cell_type": "code",
      "execution_count": 1,
      "metadata": {
        "colab": {
          "base_uri": "https://localhost:8080/"
        },
        "id": "BGF03dYpYW0A",
        "outputId": "54746cd5-54ff-4fda-8d66-cf50d4075c7c"
      },
      "outputs": [
        {
          "output_type": "stream",
          "name": "stdout",
          "text": [
            "Congratulations! You won a wafer-thin mint!\n"
          ]
        }
      ],
      "source": [
        "# Task 1\n",
        "points = 174\n",
        "\n",
        "if points <= 50:\n",
        "    result = \"Congratulations! You won a wooden rabbit!\"\n",
        "elif points <= 150:\n",
        "    result = \"Oh dear, no prize this time.\"\n",
        "elif points <= 180:\n",
        "    result = \"Congratulations! You won a wafer-thin mint!\"\n",
        "else:\n",
        "    result = \"Congratulations! You won a penguin!\"\n",
        "\n",
        "print(result)"
      ]
    },
    {
      "cell_type": "code",
      "source": [
        "#Task 2\n",
        "\n",
        "answer = 3\n",
        "guess = 3\n",
        "\n",
        "if guess < answer:\n",
        "    result = \"Oops!  Your guess was too low.\"\n",
        "elif guess > answer:\n",
        "    result = \"Oops!  Your guess was too high.\"\n",
        "elif guess == answer:\n",
        "    result = \"Nice!  Your guess matched the answer!\"\n",
        "\n",
        "print(result)"
      ],
      "metadata": {
        "colab": {
          "base_uri": "https://localhost:8080/"
        },
        "id": "uT-gDsxWYdrm",
        "outputId": "5b698ce5-4046-4aa5-e59f-f5a381a8f620"
      },
      "execution_count": 2,
      "outputs": [
        {
          "output_type": "stream",
          "name": "stdout",
          "text": [
            "Nice!  Your guess matched the answer!\n"
          ]
        }
      ]
    },
    {
      "cell_type": "code",
      "source": [
        "# Task 3\n",
        "state = 'CA'\n",
        "purchase_amount = 100\n",
        "\n",
        "if state == 'CA':\n",
        "    tax_amount = .075\n",
        "    total_cost = purchase_amount + (purchase_amount * tax_amount)\n",
        "    result = \"Since you're from {}, your total cost is {}.\".format(state, total_cost)\n",
        "\n",
        "elif state == 'MN':\n",
        "    tax_amount = .095\n",
        "    total_cost = purchase_amount*(1+tax_amount)\n",
        "    result = \"Since you're from {}, your total cost is {}.\".format(state, total_cost)\n",
        "\n",
        "elif state == 'NY':\n",
        "    tax_amount = .089\n",
        "    total_cost = purchase_amount*(1+tax_amount)\n",
        "    result = \"Since you're from {}, your total cost is {}.\".format(state, total_cost)\n",
        "\n",
        "print(result)"
      ],
      "metadata": {
        "colab": {
          "base_uri": "https://localhost:8080/"
        },
        "id": "9EyQG67zbN5G",
        "outputId": "0b22d7f0-17be-4e19-e5c4-376674586903"
      },
      "execution_count": 4,
      "outputs": [
        {
          "output_type": "stream",
          "name": "stdout",
          "text": [
            "Since you're from CA, your total cost is 107.5.\n"
          ]
        }
      ]
    },
    {
      "cell_type": "code",
      "source": [
        "# Task 4\n",
        "sentence = [\"the\", \"quick\", \"brown\", \"fox\", \"jumped\", \"over\", \"the\", \"lazy\", \"dog\"]\n",
        "\n",
        "# for loop to print out each word in the sentence list, one word per line\n",
        "\n",
        "for word in sentence:\n",
        "    print(word)"
      ],
      "metadata": {
        "colab": {
          "base_uri": "https://localhost:8080/"
        },
        "id": "Xgy4XAAsbrDQ",
        "outputId": "a1763573-4860-41d3-9203-e074002c4d00"
      },
      "execution_count": 3,
      "outputs": [
        {
          "output_type": "stream",
          "name": "stdout",
          "text": [
            "the\n",
            "quick\n",
            "brown\n",
            "fox\n",
            "jumped\n",
            "over\n",
            "the\n",
            "lazy\n",
            "dog\n"
          ]
        }
      ]
    },
    {
      "cell_type": "code",
      "source": [
        "# Task 5\n",
        "result = [i for i in range(1,31,1) if i%5 == 0]\n",
        "print(result)"
      ],
      "metadata": {
        "colab": {
          "base_uri": "https://localhost:8080/"
        },
        "id": "zADxFvg0b2CV",
        "outputId": "204be6ad-24e0-4d7a-bd08-993672c44a25"
      },
      "execution_count": 5,
      "outputs": [
        {
          "output_type": "stream",
          "name": "stdout",
          "text": [
            "[5, 10, 15, 20, 25, 30]\n"
          ]
        }
      ]
    },
    {
      "cell_type": "code",
      "source": [
        "# Task 6\n",
        "names = [\"Rick Sanchez\", \"Morty Smith\", \"Summer Smith\", \"Jerry Smith\", \"Beth Smith\"]\n",
        "\n",
        "first_names = [name.lower().split()[0] for name in names]\n",
        "\n",
        "print(first_names)"
      ],
      "metadata": {
        "colab": {
          "base_uri": "https://localhost:8080/"
        },
        "id": "KSUZ3FlmcEq-",
        "outputId": "e11be68d-9abb-4f08-a017-1471ec925040"
      },
      "execution_count": 6,
      "outputs": [
        {
          "output_type": "stream",
          "name": "stdout",
          "text": [
            "['rick', 'morty', 'summer', 'jerry', 'beth']\n"
          ]
        }
      ]
    },
    {
      "cell_type": "code",
      "source": [
        "# Task 7\n",
        "multiples_of_three = [x * 3 for x in range(1, 21)]\n",
        "print(multiples_of_three)\n",
        ""
      ],
      "metadata": {
        "colab": {
          "base_uri": "https://localhost:8080/"
        },
        "id": "xueARGhucNmk",
        "outputId": "e0abdbef-a862-4cab-e23b-9b9f0691dba4"
      },
      "execution_count": 7,
      "outputs": [
        {
          "output_type": "stream",
          "name": "stdout",
          "text": [
            "[3, 6, 9, 12, 15, 18, 21, 24, 27, 30, 33, 36, 39, 42, 45, 48, 51, 54, 57, 60]\n"
          ]
        }
      ]
    },
    {
      "cell_type": "code",
      "source": [
        "# Task 8\n",
        "\n",
        "scores = {\n",
        "             \"Rick Sanchez\": 70,\n",
        "             \"Morty Smith\": 35,\n",
        "             \"Summer Smith\": 82,\n",
        "             \"Jerry Smith\": 23,\n",
        "             \"Beth Smith\": 98\n",
        "          }\n",
        "\n",
        "\n",
        "passed = [name for name, value in scores.items() if value >= 65]\n",
        "print(passed)\n"
      ],
      "metadata": {
        "colab": {
          "base_uri": "https://localhost:8080/"
        },
        "id": "2jvl_um2cr48",
        "outputId": "26065efc-5dae-4e10-a2c2-d1fc0be92d70"
      },
      "execution_count": 8,
      "outputs": [
        {
          "output_type": "stream",
          "name": "stdout",
          "text": [
            "['Rick Sanchez', 'Summer Smith', 'Beth Smith']\n"
          ]
        }
      ]
    },
    {
      "cell_type": "code",
      "source": [
        "# Task 9\n",
        "# Task 9 Zip Lists to a Dictionary\n",
        "cast_names = [\"Barney\", \"Robin\", \"Ted\", \"Lily\", \"Marshall\"]\n",
        "cast_heights = [72, 68, 72, 66, 76]\n",
        "\n",
        "cast = dict(zip(cast_names, cast_heights))\n",
        "\n",
        "print(cast)"
      ],
      "metadata": {
        "colab": {
          "base_uri": "https://localhost:8080/"
        },
        "id": "GyCMpe29c1SF",
        "outputId": "b91df9d3-e143-463a-a1eb-8ba7b1187bb3"
      },
      "execution_count": 9,
      "outputs": [
        {
          "output_type": "stream",
          "name": "stdout",
          "text": [
            "{'Barney': 72, 'Robin': 68, 'Ted': 72, 'Lily': 66, 'Marshall': 76}\n"
          ]
        }
      ]
    },
    {
      "cell_type": "code",
      "source": [
        "# Task 10\n",
        "cast = [\"Barney Stinson\", \"Robin Scherbatsky\", \"Ted Mosby\", \"Lily Aldrin\", \"Marshall Eriksen\"]\n",
        "heights = [72, 68, 72, 66, 76]\n",
        "\n",
        "for index, height in enumerate(heights):\n",
        "    s = \"{} {}\".format(cast[index], height)\n",
        "    cast[index] = s\n",
        "\n",
        "print(cast)\n",
        ""
      ],
      "metadata": {
        "colab": {
          "base_uri": "https://localhost:8080/"
        },
        "id": "6-TmBn2QdCX0",
        "outputId": "cf43d50a-6514-4c35-e6b5-f2a645ab55cf"
      },
      "execution_count": 10,
      "outputs": [
        {
          "output_type": "stream",
          "name": "stdout",
          "text": [
            "['Barney Stinson 72', 'Robin Scherbatsky 68', 'Ted Mosby 72', 'Lily Aldrin 66', 'Marshall Eriksen 76']\n"
          ]
        }
      ]
    }
  ]
}