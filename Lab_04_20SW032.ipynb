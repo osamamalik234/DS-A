{
  "nbformat": 4,
  "nbformat_minor": 0,
  "metadata": {
    "colab": {
      "provenance": [],
      "authorship_tag": "ABX9TyNeaxwSFMuqjATDha5YZWE6",
      "include_colab_link": true
    },
    "kernelspec": {
      "name": "python3",
      "display_name": "Python 3"
    },
    "language_info": {
      "name": "python"
    }
  },
  "cells": [
    {
      "cell_type": "markdown",
      "metadata": {
        "id": "view-in-github",
        "colab_type": "text"
      },
      "source": [
        "<a href=\"https://colab.research.google.com/github/osamamalik234/DS-A/blob/main/Lab_04_20SW032.ipynb\" target=\"_parent\"><img src=\"https://colab.research.google.com/assets/colab-badge.svg\" alt=\"Open In Colab\"/></a>"
      ]
    },
    {
      "cell_type": "code",
      "execution_count": 2,
      "metadata": {
        "colab": {
          "base_uri": "https://localhost:8080/"
        },
        "id": "59QQInM7UGEK",
        "outputId": "48dc9375-d802-4eea-983a-510d7da72692"
      },
      "outputs": [
        {
          "output_type": "stream",
          "name": "stdout",
          "text": [
            "[[ 2  4  6  8]\n",
            " [10 12 14 16]\n",
            " [18 20 22 24]\n",
            " [26 28 30 32]]\n"
          ]
        }
      ],
      "source": [
        "#Task 1\n",
        "\n",
        "import numpy as np\n",
        "\n",
        "X = np.arange(2, 33, 2).reshape(4, 4)\n",
        "\n",
        "print(X)\n"
      ]
    },
    {
      "cell_type": "code",
      "source": [
        "# Task 2\n",
        "import numpy as np\n",
        "\n",
        "# Create a 5 x 5 ndarray with consecutive integers from 1 to 25 (inclusive).\n",
        "X = np.arange(1, 26).reshape(5, 5)\n",
        "\n",
        "# Use Boolean indexing to pick out only the odd numbers in the array\n",
        "Y = X[X % 2 != 0]\n",
        "\n",
        "print(\"Original Array:\")\n",
        "print(X)\n",
        "\n",
        "print(\"\\nArray with Odd Numbers:\")\n",
        "print(Y)\n"
      ],
      "metadata": {
        "colab": {
          "base_uri": "https://localhost:8080/"
        },
        "id": "0Q0ObnmZUwJ4",
        "outputId": "5a33417f-5e6a-4afc-c184-ffcfc2830be9"
      },
      "execution_count": 3,
      "outputs": [
        {
          "output_type": "stream",
          "name": "stdout",
          "text": [
            "Original Array:\n",
            "[[ 1  2  3  4  5]\n",
            " [ 6  7  8  9 10]\n",
            " [11 12 13 14 15]\n",
            " [16 17 18 19 20]\n",
            " [21 22 23 24 25]]\n",
            "\n",
            "Array with Odd Numbers:\n",
            "[ 1  3  5  7  9 11 13 15 17 19 21 23 25]\n"
          ]
        }
      ]
    },
    {
      "cell_type": "code",
      "source": [
        "#Task 3\n",
        "\n",
        "import numpy as np\n",
        "\n",
        "# Use Broadcasting to create a 4 x 4 ndarray with consecutive columns\n",
        "X = np.arange(1, 5)[:, np.newaxis] * np.ones((1, 4))\n",
        "\n",
        "print(X)\n"
      ],
      "metadata": {
        "colab": {
          "base_uri": "https://localhost:8080/"
        },
        "id": "5HYsUzx1VaHV",
        "outputId": "7458ab62-374d-4953-8222-0fa0d30d37d3"
      },
      "execution_count": 4,
      "outputs": [
        {
          "output_type": "stream",
          "name": "stdout",
          "text": [
            "[[1. 1. 1. 1.]\n",
            " [2. 2. 2. 2.]\n",
            " [3. 3. 3. 3.]\n",
            " [4. 4. 4. 4.]]\n"
          ]
        }
      ]
    }
  ]
}