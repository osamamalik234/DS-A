{
  "nbformat": 4,
  "nbformat_minor": 0,
  "metadata": {
    "colab": {
      "provenance": [],
      "authorship_tag": "ABX9TyO+wsyPX8OFxQGLrKW2WHWF",
      "include_colab_link": true
    },
    "kernelspec": {
      "name": "python3",
      "display_name": "Python 3"
    },
    "language_info": {
      "name": "python"
    }
  },
  "cells": [
    {
      "cell_type": "markdown",
      "metadata": {
        "id": "view-in-github",
        "colab_type": "text"
      },
      "source": [
        "<a href=\"https://colab.research.google.com/github/osamamalik234/DS-A/blob/main/Lab_01_20SW032.ipynb\" target=\"_parent\"><img src=\"https://colab.research.google.com/assets/colab-badge.svg\" alt=\"Open In Colab\"/></a>"
      ]
    },
    {
      "cell_type": "markdown",
      "source": [
        "Lab#01- Data Types and Operators\n",
        "\n",
        "Roll No: 20SW032\n",
        "\n",
        "Section: II"
      ],
      "metadata": {
        "id": "mqNdWC65JeKb"
      }
    },
    {
      "cell_type": "code",
      "source": [
        "# Task NO:1\n",
        "\n",
        "num = 20\n",
        "name = \"Hello bro\"\n",
        "print(\"The value of variable1 is {} and the value of variable2 is '{}'.\".format(num, name))"
      ],
      "metadata": {
        "colab": {
          "base_uri": "https://localhost:8080/"
        },
        "id": "YTpw5puEJ1Yp",
        "outputId": "17cbf1fa-1cbd-49fa-f799-ec0b66c67740"
      },
      "execution_count": 3,
      "outputs": [
        {
          "output_type": "stream",
          "name": "stdout",
          "text": [
            "The value of variable1 is 20 and the value of variable2 is 'Hello bro'.\n"
          ]
        }
      ]
    },
    {
      "cell_type": "code",
      "source": [
        "# Task NO:2\n",
        "\n",
        "str1 = \"hello World\"\n",
        "\n",
        "# convert it to upper case\n",
        "print(str1.upper())\n",
        "\n",
        "# convert it to lower case\n",
        "print(str1.lower())\n",
        "\n",
        "# capitalize the each first word of string\n",
        "print(str1.title())\n",
        "\n",
        "# startWith method on string\n",
        "print(str1.startswith(\"h\"))\n",
        "\n",
        "# endWith method on String\n",
        "print(str1.endswith(\"s\"))\n"
      ],
      "metadata": {
        "colab": {
          "base_uri": "https://localhost:8080/"
        },
        "id": "PcBwuYrkJwAU",
        "outputId": "a745eed2-e3f0-4a56-c634-6a5a6401d8b1"
      },
      "execution_count": 10,
      "outputs": [
        {
          "output_type": "stream",
          "name": "stdout",
          "text": [
            "HELLO WORLD\n",
            "hello world\n",
            "Hello World\n",
            "True\n",
            "False\n"
          ]
        }
      ]
    },
    {
      "cell_type": "code",
      "source": [
        "# Task NO: 3\n",
        "\n",
        "month = 8\n",
        "days_in_month = [31,28,31,30,31,30,31,31,30,31,30,31]\n",
        "\n",
        "num_of_days = days_in_month[month -1]\n",
        "print(num_of_days)"
      ],
      "metadata": {
        "colab": {
          "base_uri": "https://localhost:8080/"
        },
        "id": "KvzSfisiQHYb",
        "outputId": "3b719d52-e748-46a2-e0aa-4b86192d4d7d"
      },
      "execution_count": 13,
      "outputs": [
        {
          "output_type": "stream",
          "name": "stdout",
          "text": [
            "31\n"
          ]
        }
      ]
    },
    {
      "cell_type": "code",
      "source": [
        "# Task NO:4\n",
        "\n",
        "eclipse_dates = ['June 21, 2001', 'December 4, 2002', 'November 23, 2003', 'March 29, 2006', 'August 1, 2008', 'July 22, 2009', 'July 11, 2010', 'November 13, 2012', 'March 20, 2015','March 9, 2016' ]\n",
        "\n",
        "most_recent_dates = eclipse_dates[-3:]\n",
        "print(most_recent_dates)\n",
        "\n",
        "\n"
      ],
      "metadata": {
        "colab": {
          "base_uri": "https://localhost:8080/"
        },
        "id": "oCVrXidtQ6Bq",
        "outputId": "508fe1f8-d324-41fc-882b-e8934839e4cd"
      },
      "execution_count": 14,
      "outputs": [
        {
          "output_type": "stream",
          "name": "stdout",
          "text": [
            "['November 13, 2012', 'March 20, 2015', 'March 9, 2016']\n"
          ]
        }
      ]
    },
    {
      "cell_type": "code",
      "source": [
        "# Task NO:5\n",
        "\n",
        "# Creating a nested dictionary to store student data\n",
        "students_data = {\n",
        "    \"student1\": {\n",
        "        \"name\": \"John Smith\",\n",
        "        \"age\": 18,\n",
        "        \"grade\": \"12th\",\n",
        "        \"subjects\": [\"Math\", \"Science\", \"English\"],\n",
        "    },\n",
        "    \"student2\": {\n",
        "        \"name\": \"Alice Johnson\",\n",
        "        \"age\": 17,\n",
        "        \"grade\": \"11th\",\n",
        "        \"subjects\": [\"History\", \"Geography\", \"Art\"],\n",
        "    },\n",
        "    \"student3\": {\n",
        "        \"name\": \"Michael Brown\",\n",
        "        \"age\": 16,\n",
        "        \"grade\": \"10th\",\n",
        "        \"subjects\": [\"Physics\", \"Chemistry\", \"Biology\"],\n",
        "    }\n",
        "}\n",
        "\n",
        "# Accessing student data\n",
        "print(students_data[\"student1\"][\"name\"])\n",
        "print(students_data[\"student2\"][\"grade\"])\n",
        "print(students_data[\"student3\"][\"subjects\"])"
      ],
      "metadata": {
        "colab": {
          "base_uri": "https://localhost:8080/"
        },
        "id": "Z3r4psSFS8H-",
        "outputId": "0d5f6eef-a464-4f8c-8ea9-97e20b64735d"
      },
      "execution_count": 15,
      "outputs": [
        {
          "output_type": "stream",
          "name": "stdout",
          "text": [
            "John Smith\n",
            "11th\n",
            "['Physics', 'Chemistry', 'Biology']\n"
          ]
        }
      ]
    }
  ]
}